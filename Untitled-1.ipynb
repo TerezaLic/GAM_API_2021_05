{
 "metadata": {
  "language_info": {
   "codemirror_mode": {
    "name": "ipython",
    "version": 3
   },
   "file_extension": ".py",
   "mimetype": "text/x-python",
   "name": "python",
   "nbconvert_exporter": "python",
   "pygments_lexer": "ipython3",
   "version": "3.7.9"
  },
  "orig_nbformat": 2,
  "kernelspec": {
   "name": "python379jvsc74a57bd091f64ededc87a1d261d17c7681eaced172d2ba2dab083dccddbbb0903e110e86",
   "display_name": "Python 3.7.9 64-bit"
  },
  "metadata": {
   "interpreter": {
    "hash": "91f64ededc87a1d261d17c7681eaced172d2ba2dab083dccddbbb0903e110e86"
   }
  }
 },
 "nbformat": 4,
 "nbformat_minor": 2,
 "cells": [
  {
   "cell_type": "code",
   "execution_count": 52,
   "metadata": {},
   "outputs": [
    {
     "output_type": "stream",
     "name": "stdout",
     "text": [
      "None\n",
      "None\n"
     ]
    }
   ],
   "source": [
    "        ci = CommonInterface(data_folder_path='data')\n",
    "        logging.info(ci.environment_variables.project_id)\n",
    "        cfg = ci.configuration\n",
    "        params = cfg.parameters\n"
   ]
  },
  {
   "cell_type": "code",
   "execution_count": 53,
   "metadata": {},
   "outputs": [
    {
     "output_type": "stream",
     "name": "stdout",
     "text": [
      "('network_code', 'report_type', '#private_key', '#client_email', 'token_uri')\n"
     ]
    }
   ],
   "source": [
    " required = (\"network_code\", \"report_type\",\"#private_key\",\n",
    "                    \"#client_email\", \"token_uri\")\n",
    "print(required)"
   ]
  },
  {
   "cell_type": "code",
   "execution_count": 54,
   "metadata": {},
   "outputs": [],
   "source": [
    "        for r in required:\n",
    "            if r not in params:\n",
    "                raise ValueError(f'Missing required field \"{r}\".')"
   ]
  },
  {
   "cell_type": "code",
   "execution_count": 60,
   "metadata": {},
   "outputs": [
    {
     "output_type": "stream",
     "name": "stdout",
     "text": [
      "key_file\n"
     ]
    }
   ],
   "source": [
    "key_file = \"tmp/private_key.json\"\n",
    "print('key_file')"
   ]
  },
  {
   "cell_type": "code",
   "execution_count": 69,
   "metadata": {},
   "outputs": [],
   "source": [
    "def private_key_file(params: dict, path: str) -> str:\n",
    "        with open(path, 'w') as outfile:\n",
    "            json.dump({\n",
    "                \"private_key\": params[\"#private_key\"],\n",
    "                \"client_email\": params[\"#client_email\"],\n",
    "                \"token_uri\": params[\"token_uri\"]\n",
    "            }, outfile)\n",
    "        return path"
   ]
  },
  {
   "cell_type": "code",
   "execution_count": 75,
   "metadata": {},
   "outputs": [
    {
     "output_type": "error",
     "ename": "NameError",
     "evalue": "name 'report_type' is not defined",
     "traceback": [
      "\u001b[1;31m---------------------------------------------------------------------------\u001b[0m",
      "\u001b[1;31mNameError\u001b[0m                                 Traceback (most recent call last)",
      "\u001b[1;32m<ipython-input-75-3723b821ae1f>\u001b[0m in \u001b[0;36m<module>\u001b[1;34m\u001b[0m\n\u001b[0;32m      1\u001b[0m \u001b[0mdate_from\u001b[0m \u001b[1;33m=\u001b[0m \u001b[0mdateparser\u001b[0m\u001b[1;33m.\u001b[0m\u001b[0mparse\u001b[0m\u001b[1;33m(\u001b[0m\u001b[0mparams\u001b[0m\u001b[1;33m[\u001b[0m\u001b[1;34m'date_from'\u001b[0m\u001b[1;33m]\u001b[0m\u001b[1;33m)\u001b[0m\u001b[1;33m\u001b[0m\u001b[1;33m\u001b[0m\u001b[0m\n\u001b[0;32m      2\u001b[0m \u001b[0mdate_to\u001b[0m \u001b[1;33m=\u001b[0m \u001b[0mdateparser\u001b[0m\u001b[1;33m.\u001b[0m\u001b[0mparse\u001b[0m\u001b[1;33m(\u001b[0m\u001b[0mparams\u001b[0m\u001b[1;33m[\u001b[0m\u001b[1;34m'date_to'\u001b[0m\u001b[1;33m]\u001b[0m\u001b[1;33m)\u001b[0m\u001b[1;33m\u001b[0m\u001b[1;33m\u001b[0m\u001b[0m\n\u001b[1;32m----> 3\u001b[1;33m \u001b[0mreport_type\u001b[0m \u001b[1;33m=\u001b[0m \u001b[0mparams\u001b[0m\u001b[1;33m[\u001b[0m\u001b[0mreport_type\u001b[0m\u001b[1;33m]\u001b[0m\u001b[1;33m\u001b[0m\u001b[1;33m\u001b[0m\u001b[0m\n\u001b[0m",
      "\u001b[1;31mNameError\u001b[0m: name 'report_type' is not defined"
     ]
    }
   ],
   "source": [
    "        date_from = dateparser.parse(params['date_from'])\n",
    "        date_to = dateparser.parse(params['date_to'])\n",
    "        report_type = params['report_type']"
   ]
  },
  {
   "cell_type": "code",
   "execution_count": null,
   "metadata": {},
   "outputs": [],
   "source": []
  }
 ]
}